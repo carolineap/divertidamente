{
 "cells": [
  {
   "cell_type": "code",
   "execution_count": null,
   "metadata": {},
   "outputs": [],
   "source": [
    "import matplotlib.pyplot as plt\n",
    "import pandas as pd\n",
    "import numpy as np\n",
    "import seaborn as sn\n",
    "import os\n",
    "from sklearn.metrics import confusion_matrix, classification_report\n",
    "\n",
    "from tensorflow.keras.optimizers import Adam\n",
    "from tensorflow.keras.preprocessing.image import ImageDataGenerator\n",
    "from tensorflow.keras.callbacks import ReduceLROnPlateau, ModelCheckpoint\n",
    "from tensorflow.keras.models import Model\n",
    "from tensorflow.keras.layers import Input, Dense, Conv2D, MaxPooling2D, Flatten, Activation, Dropout, Lambda,  BatchNormalization\n"
   ]
  },
  {
   "cell_type": "markdown",
   "metadata": {},
   "source": [
    "# Parameters"
   ]
  },
  {
   "cell_type": "code",
   "execution_count": null,
   "metadata": {},
   "outputs": [],
   "source": [
    "learning_rate = 0.001  # initial learning rate\n",
    "min_learning_rate = 0.00001  # once the learning rate reaches this value, do not decrease it further\n",
    "learning_rate_reduction_factor = 0.001  # the factor used when reducing the learning rate -> learning_rate *= learning_rate_reduction_factor\n",
    "patience = 1  # how many epochs to wait before reducing the learning rate when the loss plateaus\n",
    "verbose = 1  # controls the amount of logging done during training and testing: 0 - none, 1 - reports metrics after each batch, 2 - reports metrics after each epoch\n",
    "image_size = (100, 100)  # width and height of the used images\n",
    "input_shape = (100, 100, 3)  # the expected input shape for the trained models; since the images in the Fruit-360 are 100 x 100 RGB images, this is the required input shape"
   ]
  },
  {
   "cell_type": "markdown",
   "metadata": {},
   "source": [
    "# Directories"
   ]
  },
  {
   "cell_type": "code",
   "execution_count": null,
   "metadata": {},
   "outputs": [],
   "source": [
    "use_label_file = False  # set this to true if you want load the label names from a file; uses the label_file defined below; the file should contain the names of the used labels, each label on a separate line\n",
    "label_file = 'labels.txt'\n",
    "base_dir = 'Data/'  # relative path to the Fruit-Images-Dataset folder\n",
    "test_dir = os.path.join(base_dir, 'Test')\n",
    "train_dir = os.path.join(base_dir, 'Training')\n",
    "output_dir = 'Results'  # root folder in which to save the the output files; the files will be under output_files/model_name "
   ]
  },
  {
   "cell_type": "code",
   "execution_count": null,
   "metadata": {},
   "outputs": [],
   "source": [
    "if not os.path.exists(output_dir):\n",
    "    os.makedirs(output_dir)\n",
    "\n",
    "if use_label_file:\n",
    "    with open(label_file, \"r\") as f:\n",
    "        labels = [x.strip() for x in f.readlines()]\n",
    "else:\n",
    "    labels = os.listdir(train_dir)\n",
    "num_classes = len(labels)"
   ]
  },
  {
   "cell_type": "code",
   "execution_count": null,
   "metadata": {},
   "outputs": [],
   "source": [
    "print(labels)\n",
    "print(num_classes)"
   ]
  },
  {
   "cell_type": "markdown",
   "metadata": {},
   "source": [
    "# Plots"
   ]
  },
  {
   "cell_type": "code",
   "execution_count": null,
   "metadata": {},
   "outputs": [],
   "source": [
    "# create 2 charts, one for accuracy, one for loss, to show the evolution of these two metrics during the training process\n",
    "def plot_model_history(model_history,name):\n",
    "    fig, axs = plt.subplots(1, 2, figsize=(15, 5))\n",
    "    # summarize history for accuracy\n",
    "    axs[0].plot(range(1, len(model_history.history['accuracy']) + 1), model_history.history['accuracy'])\n",
    "    axs[0].plot(range(1, len(model_history.history['val_accuracy']) + 1), model_history.history['val_accuracy'])\n",
    "    axs[0].set_title('Model Accuracy')\n",
    "    axs[0].set_ylabel('Accuracy')\n",
    "    axs[0].set_xlabel('Epoch')\n",
    "    axs[0].set_xticks(np.arange(1, len(model_history.history['accuracy']) + 1), len(model_history.history['accuracy']))\n",
    "    axs[0].legend(['train', 'val'], loc='best')\n",
    "    # summarize history for loss\n",
    "    axs[1].plot(range(1, len(model_history.history['loss']) + 1), model_history.history['loss'])\n",
    "    axs[1].plot(range(1, len(model_history.history['val_loss']) + 1), model_history.history['val_loss'])\n",
    "    axs[1].set_title('Model Loss')\n",
    "    axs[1].set_ylabel('Loss')\n",
    "    axs[1].set_xlabel('Epoch')\n",
    "    axs[1].set_xticks(np.arange(1, len(model_history.history['loss']) + 1), len(model_history.history['loss']))\n",
    "    axs[1].legend(['train', 'val'], loc='best')\n",
    "    # save the graph in a file called \"acc_loss.png\" to be available for later; the model_name is provided when creating and training a model\n",
    "    if name:\n",
    "        plt.savefig(name)\n",
    "    plt.show()"
   ]
  },
  {
   "cell_type": "code",
   "execution_count": null,
   "metadata": {},
   "outputs": [],
   "source": [
    "# create a confusion matrix to visually represent incorrectly classified images\n",
    "def plot_confusion_matrix(y_true, y_pred, classes, name):\n",
    "    cm = confusion_matrix(y_true, y_pred)\n",
    "    df_cm = pd.DataFrame(cm, index=[i for i in classes], columns=[i for i in classes])\n",
    "    plt.figure(figsize=(40, 40))\n",
    "    ax = sn.heatmap(df_cm, annot=True, square=True, fmt=\"d\", linewidths=.2, cbar_kws={\"shrink\": 0.8})\n",
    "    if name:\n",
    "        plt.savefig(name)  # as in the plot_model_history, the matrix is saved in a file called \"model_name_confusion_matrix.png\"\n",
    "    return ax"
   ]
  },
  {
   "cell_type": "markdown",
   "metadata": {},
   "source": [
    "# Image processing"
   ]
  },
  {
   "cell_type": "code",
   "execution_count": null,
   "metadata": {},
   "outputs": [],
   "source": [
    "def convert_image(x, alpha=1.5, beta=0):\n",
    "    import cv2\n",
    "    return cv2.convertScaleAbs(x, alpha=alpha, beta=beta)"
   ]
  },
  {
   "cell_type": "code",
   "execution_count": null,
   "metadata": {},
   "outputs": [],
   "source": [
    "# Create a custom layer that converts the original image from\n",
    "# RGB to HSV and grayscale and concatenates the results\n",
    "# forming in input of size 100 x 100 x 4\n",
    "def convert_to_hsv_and_grayscale(x):\n",
    "    import tensorflow as tf\n",
    "    hsv = tf.image.rgb_to_hsv(x)\n",
    "    gray = tf.image.rgb_to_grayscale(x)\n",
    "    rez = tf.concat([hsv, gray], axis=-1)\n",
    "    return rez"
   ]
  },
  {
   "cell_type": "code",
   "execution_count": null,
   "metadata": {},
   "outputs": [],
   "source": [
    "# Randomly changes hue and saturation of the image to simulate variable lighting conditions\n",
    "def augment_image(x):\n",
    "    import tensorflow as tf\n",
    "    x = tf.image.random_saturation(x, 0.9, 1.2)\n",
    "    x = tf.image.random_hue(x, 0.02)\n",
    "    return x"
   ]
  },
  {
   "cell_type": "markdown",
   "metadata": {},
   "source": [
    "# Build Train, Validation and Test data"
   ]
  },
  {
   "cell_type": "code",
   "execution_count": null,
   "metadata": {},
   "outputs": [],
   "source": [
    "# given the train and test folder paths and a validation to test ratio, this method creates three generators\n",
    "#  - the training generator uses (100 - validation_percent) of images from the train set \n",
    "#    it applies random horizontal and vertical flips for data augmentation and generates batches randomly\n",
    "#  - the validation generator uses the remaining validation_percent of images from the train set\n",
    "#    does not generate random batches, as the model is not trained on this data\n",
    "#    the accuracy and loss are monitored using the validation data so that the learning rate can be updated if the model hits a local optimum\n",
    "#  - the test generator uses the test set without any form of augmentation\n",
    "#    once the training process is done, the final values of accuracy and loss are calculated on this set\n",
    "def build_data_generators(train_folder, test_folder, validation_percent, labels=None, image_size=(100, 100), batch_size=50, convert=True):\n",
    "    \n",
    "    if convert:\n",
    "        train_datagen = ImageDataGenerator(\n",
    "            horizontal_flip=True,\n",
    "            vertical_flip=True,  # randomly flip images\n",
    "            preprocessing_function=convert_image, \n",
    "            validation_split=validation_percent)  # percentage indicating how much of the training set should be kept for validation\n",
    "\n",
    "        test_datagen = ImageDataGenerator(preprocessing_function=convert_image)\n",
    "    \n",
    "    else:\n",
    "        train_datagen = ImageDataGenerator(\n",
    "            horizontal_flip=True,\n",
    "            vertical_flip=True,  # randomly flip images\n",
    "            validation_split=validation_percent)  # percentage indicating how much of the training set should be kept for validation\n",
    "\n",
    "        test_datagen = ImageDataGenerator()\n",
    "\n",
    "    \n",
    "    train_gen = train_datagen.flow_from_directory(train_folder, target_size=image_size, class_mode='sparse',\n",
    "                                                  batch_size=batch_size, shuffle=True, subset='training', classes=labels)\n",
    "    validation_gen = train_datagen.flow_from_directory(train_folder, target_size=image_size, class_mode='sparse',\n",
    "                                                       batch_size=batch_size, shuffle=False, subset='validation', classes=labels)\n",
    "    test_gen = test_datagen.flow_from_directory(test_folder, target_size=image_size, class_mode='sparse',\n",
    "                                                batch_size=batch_size, shuffle=False, subset=None, classes=labels)\n",
    "    return train_gen, validation_gen, test_gen"
   ]
  },
  {
   "cell_type": "markdown",
   "metadata": {},
   "source": [
    "# Train, evaluate and Predict"
   ]
  },
  {
   "cell_type": "code",
   "execution_count": null,
   "metadata": {},
   "outputs": [],
   "source": [
    "# this method performs all the steps from data setup, training and testing the model and plotting the results\n",
    "# the model is any trainable model; the input shape and output number of classes is dependant on the dataset used, in this case the input is 100x100 RGB images and the output is a softmax layer with 118 probabilities\n",
    "# the name is used to save the classification report containing the f1 score of the model, the plots showing the loss and accuracy and the confusion matrix\n",
    "# the batch size is used to determine the number of images passed through the network at once, the number of steps per epochs is derived from this as (total number of images in set // batch size) + 1\n",
    "def train_and_evaluate_model(model, conf, epochs=25, batch_size=50, verbose=verbose, useCkpt=False, convert=True):\n",
    "    print(model.summary())\n",
    "    \n",
    "    conf = conf + str(convert)\n",
    "    model_name = \"/model\" + \"-\" + conf + \".h5\"\n",
    "    model_out_dir = output_dir\n",
    "  \n",
    "    trainGen, validationGen, testGen = build_data_generators(train_dir, test_dir, validation_percent=0.1, labels=labels, image_size=image_size, batch_size=batch_size, convert=convert)\n",
    "    optimizer = Adam(lr=learning_rate)\n",
    "    \n",
    "    model.compile(optimizer=optimizer, loss=\"sparse_categorical_crossentropy\", metrics=[\"accuracy\"])\n",
    "    learning_rate_reduction = ReduceLROnPlateau(monitor='val_loss', patience=patience, verbose=verbose, \n",
    "                                                factor=learning_rate_reduction_factor, min_lr=min_learning_rate)\n",
    "    save_model = ModelCheckpoint(filepath=model_out_dir + model_name, monitor='val_accuracy', verbose=verbose, \n",
    "                                 save_best_only=True, save_weights_only=False, mode='max', period=1)\n",
    "    \n",
    "    history = model.fit(trainGen,\n",
    "                                  epochs=epochs,\n",
    "                                  steps_per_epoch=(trainGen.n // batch_size) + 1,\n",
    "                                  validation_data=validationGen,\n",
    "                                  validation_steps=(validationGen.n // batch_size) + 1,\n",
    "                                  verbose=verbose,\n",
    "                                  callbacks=[learning_rate_reduction, save_model])\n",
    "\n",
    "    model.load_weights(model_out_dir + model_name)\n",
    "\n",
    "    validationGen.reset()\n",
    "    loss_v, accuracy_v = model.evaluate(validationGen, steps=(validationGen.n // batch_size) + 1, verbose=verbose)\n",
    "    loss, accuracy = model.evaluate(testGen, steps=(testGen.n // batch_size) + 1, verbose=verbose)\n",
    "    \n",
    "    print(\"Validation: accuracy = %f  ;  loss_v = %f\" % (accuracy_v, loss_v))\n",
    "    print(\"Test: accuracy = %f  ;  loss_v = %f\" % (accuracy, loss))\n",
    "    \n",
    "    plot_model_history(history, name=model_out_dir+\"/acc_loss-\"+conf+\".png\")\n",
    "    testGen.reset()\n",
    "    y_pred = model.predict(testGen, steps=(testGen.n // batch_size) + 1, verbose=verbose)\n",
    "    y_true = testGen.classes[testGen.index_array]\n",
    "    plot_confusion_matrix(y_true, y_pred.argmax(axis=-1), labels, name=model_out_dir+\"/confusion_matrix-\"+conf+\".png\")\n",
    "    class_report = classification_report(y_true, y_pred.argmax(axis=-1), target_names=labels)\n",
    "\n",
    "    with open(model_out_dir + \"/classification_report-\" + conf + \".txt\", \"w\") as text_file:\n",
    "        text_file.write(\"%s\" % class_report)"
   ]
  },
  {
   "cell_type": "markdown",
   "metadata": {},
   "source": [
    "# Networks"
   ]
  },
  {
   "cell_type": "code",
   "execution_count": null,
   "metadata": {},
   "outputs": [],
   "source": [
    "def network_one(input_shape, num_classes):\n",
    "    img_input = Input(shape=input_shape, name='data')\n",
    "    x = Conv2D(16, (5, 5), strides=(1, 1), padding='same', name='conv1')(img_input)\n",
    "    x = Activation('elu', name='conv1_elu')(x)\n",
    "    x = MaxPooling2D((2, 2), strides=(2, 2), padding='valid', name='pool1')(x)\n",
    "    x = Conv2D(32, (5, 5), strides=(2, 2), padding='same', name='conv2')(x)\n",
    "    x = Activation('elu', name='conv2_elu')(x)\n",
    "    x = MaxPooling2D((2, 2), strides=(2, 2), padding='valid', name='pool2')(x)\n",
    "    x = Conv2D(64, (5, 5), strides=(2, 2), padding='same', name='conv3')(x)\n",
    "    x = Activation('elu', name='conv3_elu')(x)\n",
    "    x = MaxPooling2D((2, 2), strides=(2, 2), padding='valid', name='pool3')(x)\n",
    "    x = Conv2D(128, (5, 5), strides=(2, 2), padding='same', name='conv4')(x)\n",
    "    x = Activation('elu', name='conv4_elu')(x)\n",
    "    x = MaxPooling2D((2, 2), strides=(2, 2), padding='valid', name='pool4')(x)\n",
    "    x = Flatten()(x)\n",
    "    x = Dense(256, activation='relu', name='fcl2')(x)\n",
    "    x = Dropout(0.3)(x)\n",
    "    out = Dense(num_classes, activation='softmax', name='predictions')(x)\n",
    "    rez = Model(inputs=img_input, outputs=out)\n",
    "    return rez"
   ]
  },
  {
   "cell_type": "code",
   "execution_count": null,
   "metadata": {},
   "outputs": [],
   "source": [
    "def network_two(input_shape, num_classes):\n",
    "    img_input = Input(shape=input_shape, name='data')\n",
    "    x = Conv2D(16, (5, 5), strides=(1, 1), padding='same', name='conv1')(img_input)\n",
    "    x = Activation('elu', name='conv1_elu')(x)\n",
    "    x = MaxPooling2D((2, 2), strides=(2, 2), padding='valid', name='pool1')(x)\n",
    "    x = Conv2D(32, (5, 5), strides=(2, 2), padding='same', name='conv2')(x)\n",
    "    x = Activation('elu', name='conv2_elu')(x)\n",
    "    x = MaxPooling2D((2, 2), strides=(2, 2), padding='valid', name='pool2')(x)\n",
    "    x = Conv2D(64, (5, 5), strides=(2, 2), padding='same', name='conv3')(x)\n",
    "    x = Activation('elu', name='conv3_elu')(x)\n",
    "    x = MaxPooling2D((2, 2), strides=(2, 2), padding='valid', name='pool3')(x)\n",
    "    x = Conv2D(128, (5, 5), strides=(2, 2), padding='same', name='conv4')(x)\n",
    "    x = Activation('elu', name='conv4_elu')(x)\n",
    "    x = MaxPooling2D((2, 2), strides=(2, 2), padding='valid', name='pool4')(x)\n",
    "    x = Flatten()(x)\n",
    "    x = Dropout(0.5)(x)\n",
    "    out = Dense(num_classes, activation='softmax', name='predictions')(x)\n",
    "    rez = Model(inputs=img_input, outputs=out)\n",
    "    return rez"
   ]
  },
  {
   "cell_type": "code",
   "execution_count": null,
   "metadata": {},
   "outputs": [],
   "source": [
    "def network_three(input_shape, num_classes):\n",
    "    img_input = Input(shape=input_shape, name='data')\n",
    "    x = Conv2D(16, (5, 5), strides=(2, 2), padding='same', name='conv1')(img_input)\n",
    "    x = Activation('relu', name='conv1_relu')(x)\n",
    "    x = MaxPooling2D((2, 2), strides=(2, 2), padding='valid', name='pool1')(x)\n",
    "    x = BatchNormalization()(x)\n",
    "    x = Conv2D(32, (5, 5), strides=(2, 2), padding='same', name='conv1')(img_input)\n",
    "    x = Activation('relu', name='conv1_relu')(x)\n",
    "    x = MaxPooling2D((2, 2), strides=(2, 2), padding='valid', name='pool1')(x)\n",
    "    x = BatchNormalization()(x)\n",
    "    x = Conv2D(64, (5, 5), strides=(2, 2), padding='same', name='conv2')(x)\n",
    "    x = Activation('relu', name='conv2_relu')(x)\n",
    "    x = MaxPooling2D((2, 2), strides=(2, 2), padding='valid', name='pool2')(x)\n",
    "    x = BatchNormalization()(x)\n",
    "    x = Flatten()(x)\n",
    "    x = Dense(512, activation='relu', name='fcl2')(x)\n",
    "    x = Dropout(0.3)(x)\n",
    "    out = Dense(num_classes, activation='softmax', name='predictions')(x)\n",
    "    rez = Model(inputs=img_input, outputs=out)\n",
    "    return rez"
   ]
  },
  {
   "cell_type": "code",
   "execution_count": null,
   "metadata": {},
   "outputs": [],
   "source": [
    "def network_cnnPaper(input_shape, num_classes):\n",
    "    img_input = Input(shape=input_shape, name='data')\n",
    "    x = Lambda(convert_to_hsv_and_grayscale)(img_input)\n",
    "    x = Conv2D(16, (5, 5), strides=(1, 1), padding='same', name='conv1')(x)\n",
    "    x = Activation('relu', name='conv1_relu')(x)\n",
    "    x = MaxPooling2D((2, 2), strides=(2, 2), padding='valid', name='pool1')(x)\n",
    "    x = Conv2D(32, (5, 5), strides=(1, 1), padding='same', name='conv2')(x)\n",
    "    x = Activation('relu', name='conv2_relu')(x)\n",
    "    x = MaxPooling2D((2, 2), strides=(2, 2), padding='valid', name='pool2')(x)\n",
    "    x = Conv2D(64, (5, 5), strides=(1, 1), padding='same', name='conv3')(x)\n",
    "    x = Activation('relu', name='conv3_relu')(x)\n",
    "    x = MaxPooling2D((2, 2), strides=(2, 2), padding='valid', name='pool3')(x)\n",
    "    x = Conv2D(128, (5, 5), strides=(1, 1), padding='same', name='conv4')(x)\n",
    "    x = Activation('relu', name='conv4_relu')(x)\n",
    "    x = MaxPooling2D((2, 2), strides=(2, 2), padding='valid', name='pool4')(x)\n",
    "    x = Flatten()(x)\n",
    "    x = Dense(1024, activation='relu', name='fcl1')(x)\n",
    "    x = Dropout(0.2)(x)\n",
    "    x = Dense(256, activation='relu', name='fcl2')(x)\n",
    "    x = Dropout(0.2)(x)\n",
    "    out = Dense(num_classes, activation='softmax', name='predictions')(x)\n",
    "    rez = Model(inputs=img_input, outputs=out)\n",
    "    return rez"
   ]
  },
  {
   "cell_type": "code",
   "execution_count": null,
   "metadata": {},
   "outputs": [],
   "source": [
    "model = network_one(input_shape=input_shape, num_classes=num_classes)\n",
    "train_and_evaluate_model(model, conf=\"conf1\", epochs=1, convert=True)"
   ]
  },
  {
   "cell_type": "code",
   "execution_count": null,
   "metadata": {},
   "outputs": [],
   "source": [
    "model = network_one(input_shape=input_shape, num_classes=num_classes)\n",
    "train_and_evaluate_model(model, conf=\"conf2\", epochs=25, convert=True)"
   ]
  },
  {
   "cell_type": "code",
   "execution_count": null,
   "metadata": {},
   "outputs": [],
   "source": [
    "model = network_three(input_shape=input_shape, num_classes=num_classes)\n",
    "train_and_evaluate_model(model, conf=\"conf3\", epochs=25, convert=True)"
   ]
  },
  {
   "cell_type": "code",
   "execution_count": null,
   "metadata": {},
   "outputs": [],
   "source": [
    "model = network_cnnPaper(input_shape=input_shape, num_classes=num_classes)\n",
    "#train_and_evaluate_model(model, conf=\"paper\", epochs=25, convert=False)"
   ]
  }
 ],
 "metadata": {
  "kernelspec": {
   "display_name": "Python 3",
   "language": "python",
   "name": "python3"
  },
  "language_info": {
   "codemirror_mode": {
    "name": "ipython",
    "version": 3
   },
   "file_extension": ".py",
   "mimetype": "text/x-python",
   "name": "python",
   "nbconvert_exporter": "python",
   "pygments_lexer": "ipython3",
   "version": "3.5.2"
  }
 },
 "nbformat": 4,
 "nbformat_minor": 4
}
